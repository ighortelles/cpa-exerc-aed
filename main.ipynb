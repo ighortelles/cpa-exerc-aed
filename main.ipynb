{
 "cells": [
  {
   "cell_type": "markdown",
   "id": "31c725e4",
   "metadata": {},
   "source": [
    "## .env"
   ]
  },
  {
   "cell_type": "code",
   "execution_count": 2,
   "id": "cd4a22a6",
   "metadata": {},
   "outputs": [],
   "source": [
    "import pandas as pd"
   ]
  },
  {
   "cell_type": "markdown",
   "id": "d07ea553",
   "metadata": {},
   "source": [
    "## Etapa Teórica"
   ]
  },
  {
   "attachments": {
    "image.png": {
     "image/png": "[encoded data removed]"
    }
   },
   "cell_type": "markdown",
   "id": "0a8cec2e",
   "metadata": {},
   "source": [
    "Considerando os dados tabulares abaixo, resolva os exercícios a seguir:\n",
    "\n",
    "![image.png](attachment:image.png)"
   ]
  },
  {
   "cell_type": "code",
   "execution_count": 18,
   "id": "851a43f3",
   "metadata": {},
   "outputs": [],
   "source": [
    "base = pd.read_csv(\"./base_etapa_teorica.csv\", sep=',', decimal=',')"
   ]
  },
  {
   "cell_type": "markdown",
   "id": "d5b6dc1f",
   "metadata": {},
   "source": [
    "### 1) Quais atributos são categóricos e quais atributos são numéricos? Apenas com as informações dadas é possível identificar dentre os atributos numéricos quais são os tipos?"
   ]
  },
  {
   "cell_type": "markdown",
   "id": "ba91aae8",
   "metadata": {},
   "source": [
    "- Atributos ***categóricos***: f2 e f3\n",
    "- Atributos ***numéricos***: f1 e f4\n",
    "    - Os dois atributos numéricos indicam ser do tipo float."
   ]
  },
  {
   "cell_type": "markdown",
   "id": "4df55907",
   "metadata": {},
   "source": [
    "### 2) Qual a moda de f3?"
   ]
  },
  {
   "cell_type": "markdown",
   "id": "032852ba",
   "metadata": {},
   "source": [
    "- red"
   ]
  },
  {
   "cell_type": "markdown",
   "id": "23ec83cf",
   "metadata": {},
   "source": [
    "### 3) Compute a média, mediana, desvio padrão, variância, dos atributos f1 e f4."
   ]
  },
  {
   "cell_type": "code",
   "execution_count": null,
   "id": "ee8c94db",
   "metadata": {},
   "outputs": [
    {
     "name": "stdout",
     "output_type": "stream",
     "text": [
      "Atributo f1\n",
      "Média: -0.115\n",
      "Mediana: 0.38\n",
      "Desvio Padrão: 1.13677\n",
      "Variância: 1.29225\n"
     ]
    }
   ],
   "source": [
    "x = 'f1'\n",
    "print(f\"Atributo {x}\")\n",
    "\n",
    "media = base[x].mean()\n",
    "print(f\"Média: {media.round(5)}\")\n",
    "\n",
    "mediana = base[x].median()\n",
    "print(f\"Mediana: {mediana}\")\n",
    "\n",
    "std = base[x].std()\n",
    "print(f\"Desvio Padrão: {std.round(5)}\")\n",
    "\n",
    "variancia = base[x].var()\n",
    "print(f\"Variância: {variancia.round(5)}\")"
   ]
  },
  {
   "cell_type": "code",
   "execution_count": 17,
   "id": "5ff66f10",
   "metadata": {},
   "outputs": [
    {
     "name": "stdout",
     "output_type": "stream",
     "text": [
      "Atributo f4\n",
      "Média: 4.27\n",
      "Mediana: 1.525\n",
      "Desvio Padrão: 6.55115\n",
      "Variância: 42.91751\n"
     ]
    }
   ],
   "source": [
    "x = 'f4'\n",
    "print(f\"Atributo {x}\")\n",
    "\n",
    "media = base[x].mean()\n",
    "print(f\"Média: {media.round(5)}\")\n",
    "\n",
    "mediana = base[x].median()\n",
    "print(f\"Mediana: {mediana}\")\n",
    "\n",
    "std = base[x].std()\n",
    "print(f\"Desvio Padrão: {std.round(5)}\")\n",
    "\n",
    "variancia = base[x].var()\n",
    "print(f\"Variância: {variancia.round(5)}\")"
   ]
  },
  {
   "cell_type": "markdown",
   "id": "552f4e4f",
   "metadata": {},
   "source": [
    "### 4) Calcule a covariância entre os atributos f1 e f4"
   ]
  },
  {
   "cell_type": "code",
   "execution_count": 30,
   "id": "f6928915",
   "metadata": {},
   "outputs": [
    {
     "name": "stdout",
     "output_type": "stream",
     "text": [
      "1.87539\n"
     ]
    }
   ],
   "source": [
    "cov = base[['f1', 'f4']].cov().loc['f1', 'f4']\n",
    "print(cov.round(5))"
   ]
  },
  {
   "cell_type": "markdown",
   "id": "f96b8852",
   "metadata": {},
   "source": [
    "### 5) Calcule a correlação existente entre os atributos f1 e f4"
   ]
  },
  {
   "cell_type": "code",
   "execution_count": 33,
   "id": "fef6fd74",
   "metadata": {},
   "outputs": [
    {
     "name": "stdout",
     "output_type": "stream",
     "text": [
      "0.25183\n"
     ]
    }
   ],
   "source": [
    "corr = base[['f1', 'f4']].corr().loc['f1', 'f4']\n",
    "print(corr.round(5))"
   ]
  },
  {
   "cell_type": "markdown",
   "id": "dc6647de",
   "metadata": {},
   "source": [
    "## Etapa Prática"
   ]
  },
  {
   "cell_type": "code",
   "execution_count": 34,
   "id": "5c13e9dd",
   "metadata": {},
   "outputs": [],
   "source": [
    "penguins = pd.read_csv('./penguins.csv')"
   ]
  },
  {
   "cell_type": "markdown",
   "id": "f7acbad9",
   "metadata": {},
   "source": [
    "### 1) Considerando que a variável target refere-se a espécie do pinguim, quais são as features categóricas e numéricas que temos disponíveis?"
   ]
  },
  {
   "cell_type": "markdown",
   "id": "bde5e011",
   "metadata": {},
   "source": [
    "- Atributos ***categóricos***: studyName, Region, Island, Stage, Individual ID, Clutch Completion, Sex, Comments \n",
    "- Atributos ***numéricos***: Sample Number, Date Egg, Culmen Length (mm), Culmen Depth (mm), Flipper Length (mm), Body Mass (g), Delta 15 N (o/oo), Delta 13 C (o/oo)"
   ]
  },
  {
   "cell_type": "markdown",
   "id": "074b3923",
   "metadata": {},
   "source": [
    "### 2) Existem dados faltantes no conjunto de dados? Quantos e em quais features?"
   ]
  },
  {
   "cell_type": "markdown",
   "id": "fd95e1d7",
   "metadata": {},
   "source": [
    "Sim.\n",
    "\n",
    "Atributos que possuem dados faltantes (quantidade de dados faltando):\n",
    "- *Culmen Length (mm):* 2  \n",
    "- *Culmen Depth (mm):* 2     \n",
    "- *Flipper Length (mm):* 2     \n",
    "- *Body Mass (g):* 2     \n",
    "- *Sex:* 12      \n",
    "- *Delta 15 N (o/oo):* 14     \n",
    "- *Delta 13 C (o/oo):* 13     \n",
    "- *Comments:* 290\n",
    "\n",
    "Total de dados faltantes: **337**"
   ]
  },
  {
   "cell_type": "markdown",
   "id": "19833a75",
   "metadata": {},
   "source": [
    "### 3) Quais espécies de pinguim existem no conjunto de dados? As classes estão balanceadas?"
   ]
  },
  {
   "cell_type": "code",
   "execution_count": null,
   "id": "2b7c7f19",
   "metadata": {},
   "outputs": [
    {
     "name": "stdout",
     "output_type": "stream",
     "text": [
      "Espécies: ['Adelie Penguin (Pygoscelis adeliae)' 'Gentoo penguin (Pygoscelis papua)'\n",
      " 'Chinstrap penguin (Pygoscelis antarctica)']\n"
     ]
    }
   ],
   "source": [
    "especies = penguins['Species'].unique()\n",
    "print(f\"Espécies: {especies}\")"
   ]
  },
  {
   "cell_type": "code",
   "execution_count": null,
   "id": "77fa8534",
   "metadata": {},
   "outputs": [],
   "source": []
  }
 ],
 "metadata": {
  "kernelspec": {
   "display_name": "venv",
   "language": "python",
   "name": "python3"
  },
  "language_info": {
   "codemirror_mode": {
    "name": "ipython",
    "version": 3
   },
   "file_extension": ".py",
   "mimetype": "text/x-python",
   "name": "python",
   "nbconvert_exporter": "python",
   "pygments_lexer": "ipython3",
   "version": "3.12.3"
  }
 },
 "nbformat": 4,
 "nbformat_minor": 5
}
